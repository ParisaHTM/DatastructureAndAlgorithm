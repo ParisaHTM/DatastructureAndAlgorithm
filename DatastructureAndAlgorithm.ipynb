{
  "nbformat": 4,
  "nbformat_minor": 0,
  "metadata": {
    "colab": {
      "provenance": [],
      "authorship_tag": "ABX9TyM6fuhKTPaCL6rSUVfQltJh",
      "include_colab_link": true
    },
    "kernelspec": {
      "name": "python3",
      "display_name": "Python 3"
    },
    "language_info": {
      "name": "python"
    }
  },
  "cells": [
    {
      "cell_type": "markdown",
      "metadata": {
        "id": "view-in-github",
        "colab_type": "text"
      },
      "source": [
        "<a href=\"https://colab.research.google.com/github/ParisaHTM/DatastructureAndAlgorithm/blob/main/DatastructureAndAlgorithm.ipynb\" target=\"_parent\"><img src=\"https://colab.research.google.com/assets/colab-badge.svg\" alt=\"Open In Colab\"/></a>"
      ]
    },
    {
      "cell_type": "code",
      "execution_count": null,
      "metadata": {
        "colab": {
          "base_uri": "https://localhost:8080/"
        },
        "id": "kCC2TwsPFz0p",
        "outputId": "8d1822ac-8999-4ca0-e8e1-0932422f6ccc"
      },
      "outputs": [
        {
          "output_type": "stream",
          "name": "stdout",
          "text": [
            "3\n"
          ]
        }
      ],
      "source": [
        "def linear_search(list_test, target):\n",
        "  \"\"\"\n",
        "  Return the index position of the tarfet in the list if found, elsr return None.\n",
        "  \"\"\"\n",
        "  for i, num in enumerate(list_test):\n",
        "    if num == target:\n",
        "      return i\n",
        "    if i == len(list_test):\n",
        "      return None\n",
        "\n",
        "list_test = [1, 2, 3, 4]\n",
        "target = 4\n",
        "\n",
        "print(linear_search(list_test, target))"
      ]
    },
    {
      "cell_type": "code",
      "source": [
        "len(list_test)"
      ],
      "metadata": {
        "colab": {
          "base_uri": "https://localhost:8080/"
        },
        "id": "lR1wvkxrFf-L",
        "outputId": "70d34b7c-521a-4fb4-9e93-f10e21621301"
      },
      "execution_count": null,
      "outputs": [
        {
          "output_type": "execute_result",
          "data": {
            "text/plain": [
              "4"
            ]
          },
          "metadata": {},
          "execution_count": 3
        }
      ]
    },
    {
      "cell_type": "code",
      "source": [
        "# better\n",
        "def linear_search(list_test, target):\n",
        "  \"\"\"\n",
        "  Return the index position of the tarfet in the list if found, elsr return None.\n",
        "  \"\"\"\n",
        "  for i, num in enumerate(list_test):\n",
        "    if num == target:\n",
        "      return i\n",
        "  return None\n",
        "\n",
        "list_test = [1, 2, 3, 4]\n",
        "target = 4\n",
        "\n",
        "print(linear_search(list_test, target))"
      ],
      "metadata": {
        "colab": {
          "base_uri": "https://localhost:8080/"
        },
        "id": "FbI-XSgnFl6d",
        "outputId": "5db77938-48a0-421d-e794-4174c2e6e4c2"
      },
      "execution_count": null,
      "outputs": [
        {
          "output_type": "stream",
          "name": "stdout",
          "text": [
            "3\n"
          ]
        }
      ]
    },
    {
      "cell_type": "code",
      "source": [
        "def binary_search(list_test, target):\n",
        "  first = 0\n",
        "  last = len(list_test) - 1\n",
        "\n",
        "  while first <= last:\n",
        "    midpoint = (first + last) // 2\n",
        "\n",
        "    if list_test[midpoint] == target:\n",
        "      return midpoint\n",
        "    elif list_test[midpoint] < target:\n",
        "      first = midpoint + 1\n",
        "    elif list_test[midpoint] > target:\n",
        "      last = midpoint - 1\n",
        "  return None\n",
        "\n",
        "target = 2\n",
        "binary_search(list_test, target)"
      ],
      "metadata": {
        "colab": {
          "base_uri": "https://localhost:8080/"
        },
        "id": "4FD3LusuF9MG",
        "outputId": "89e5ce4d-4435-4395-9014-e2e3b2c1c869"
      },
      "execution_count": null,
      "outputs": [
        {
          "output_type": "execute_result",
          "data": {
            "text/plain": [
              "1"
            ]
          },
          "metadata": {},
          "execution_count": 11
        }
      ]
    },
    {
      "cell_type": "code",
      "source": [
        "def recursive_binary_search(list_test, target):\n",
        "  first = 0\n",
        "  last = len(list_test)-1\n",
        "  midpoint = (first+last) // 2\n",
        "\n",
        "  if len(list_test):\n",
        "    return None\n",
        "\n",
        "  if list_test[midpoint] == target:\n",
        "    return midpoint\n",
        "  if list_test[midpoint] < target:\n",
        "    return recursive_binary_search(list_test[midpoint+1:], target)\n",
        "  else:\n",
        "    return recursive_binary_search(list_test[:midpoint], target)\n",
        "\n",
        "recursive_binary_search(list_test, target)"
      ],
      "metadata": {
        "colab": {
          "base_uri": "https://localhost:8080/"
        },
        "id": "YG2EY4C9MB3U",
        "outputId": "7f6bd4a8-664a-4240-a907-c3a09f5330ed"
      },
      "execution_count": null,
      "outputs": [
        {
          "output_type": "execute_result",
          "data": {
            "text/plain": [
              "1"
            ]
          },
          "metadata": {},
          "execution_count": 12
        }
      ]
    },
    {
      "cell_type": "code",
      "source": [
        "list_test = [1, 2, 3, 4]\n",
        "list_test.extend([10, 12])\n",
        "list_test"
      ],
      "metadata": {
        "colab": {
          "base_uri": "https://localhost:8080/"
        },
        "id": "xmrzuljfS6fI",
        "outputId": "e0d8dcdf-a4e6-4bcd-d6a8-5db40ce1939f"
      },
      "execution_count": null,
      "outputs": [
        {
          "output_type": "execute_result",
          "data": {
            "text/plain": [
              "[1, 2, 3, 4, 10, 12]"
            ]
          },
          "metadata": {},
          "execution_count": 16
        }
      ]
    },
    {
      "cell_type": "code",
      "source": [
        "# Linked_list\n",
        "\n",
        "class Node:\n",
        "  \"\"\"\n",
        "  An object for storing a single node of a linked list.\n",
        "  Models teo atributes - dtaa and the link to the next node in the list\n",
        "  \"\"\"\n",
        "\n",
        "  data = None\n",
        "  next_node = None\n",
        "\n",
        "  def __init__(self, data):\n",
        "    self.data = data\n",
        "\n",
        "N1 = Node(10)\n",
        "N1"
      ],
      "metadata": {
        "id": "4UF71O2NgYQe",
        "colab": {
          "base_uri": "https://localhost:8080/"
        },
        "outputId": "3d71ead1-3a6c-40d5-d2d2-38cb401b4ecf"
      },
      "execution_count": 2,
      "outputs": [
        {
          "output_type": "execute_result",
          "data": {
            "text/plain": [
              "<__main__.Node at 0x7f5a64d268d0>"
            ]
          },
          "metadata": {},
          "execution_count": 2
        }
      ]
    },
    {
      "cell_type": "code",
      "source": [
        "# to make the class more understandabel add in_built function: __repr__:\n",
        "class Node:\n",
        "  \"\"\"\n",
        "  An object for storing a single node of a linked list.\n",
        "  Models teo atributes - dtaa and the link to the next node in the list\n",
        "  \"\"\"\n",
        "\n",
        "  data = None\n",
        "  next_node = None\n",
        "\n",
        "  def __init__(self, data):\n",
        "    self.data = data\n",
        "\n",
        "  def __repr__(self) -> str:\n",
        "    return f\"Node: {self.data}\"\n",
        "\n",
        "N1 = Node(10)\n",
        "N1\n"
      ],
      "metadata": {
        "colab": {
          "base_uri": "https://localhost:8080/"
        },
        "id": "ect-hZxaU-_9",
        "outputId": "a0f1640e-6546-4244-da87-6fb61e2152aa"
      },
      "execution_count": 5,
      "outputs": [
        {
          "output_type": "execute_result",
          "data": {
            "text/plain": [
              "Node: 10"
            ]
          },
          "metadata": {},
          "execution_count": 5
        }
      ]
    },
    {
      "cell_type": "code",
      "source": [
        "# Fahmidam ::)) dare a data structure jadid misaze ke bettonimn data ro manage konim ::)) Yay!\n",
        "N2 = Node(20)\n",
        "N1.next_node = N2\n",
        "N1, N1.data, N1.next_node  #Node: 10 (__repr__ az N1), 10 (khode sel.data ro call kardim), Node: 20 (az __repr__ N2 oomad :)))"
      ],
      "metadata": {
        "colab": {
          "base_uri": "https://localhost:8080/"
        },
        "id": "XAKFiRGMVmCU",
        "outputId": "7afd0675-188d-487a-f7eb-80cf7f79a7bc"
      },
      "execution_count": 8,
      "outputs": [
        {
          "output_type": "execute_result",
          "data": {
            "text/plain": [
              "(Node: 10, 10, Node: 20)"
            ]
          },
          "metadata": {},
          "execution_count": 8
        }
      ]
    },
    {
      "cell_type": "code",
      "source": [
        "# 1. add a new class - > linkedlist :\n",
        "class LinkedList:\n",
        "\n",
        "  def __init__(self,):\n",
        "    self.head = None\n",
        "\n",
        "  def is_empty(self):\n",
        "    return self.head == None\n",
        "\n",
        "  def size(self,):\n",
        "    current = self.head\n",
        "    count = 0\n",
        "\n",
        "    while current:\n",
        "      count += 1\n",
        "      current = current.next_node\n",
        "    return count\n",
        "\n",
        "l = LinkedList()\n",
        "N1 = Node(10)\n",
        "l.head = N1\n",
        "l.size()"
      ],
      "metadata": {
        "colab": {
          "base_uri": "https://localhost:8080/"
        },
        "id": "98S-iwnkV666",
        "outputId": "1ffe28b5-a176-4e8c-be9c-4214698d8e8c"
      },
      "execution_count": 13,
      "outputs": [
        {
          "output_type": "execute_result",
          "data": {
            "text/plain": [
              "1"
            ]
          },
          "metadata": {},
          "execution_count": 13
        }
      ]
    },
    {
      "cell_type": "code",
      "source": [
        "# 2. add function add to accept data to add to the list inside of a node\n",
        "class LinkedList:\n",
        "\n",
        "  def __init__(self,):\n",
        "    self.head = None\n",
        "\n",
        "  def is_empty(self):\n",
        "    return self.head == None\n",
        "\n",
        "  def size(self,):\n",
        "    current = self.head\n",
        "    count = 0\n",
        "\n",
        "    while current:\n",
        "      count += 1\n",
        "      current = current.next_node\n",
        "    return count\n",
        "\n",
        "  def add(self, data_add):\n",
        "    # first we create a new node to hold on to the data\n",
        "    new_node = Node(data_add)\n",
        "    # before we set the new node as the head of the the list, we need to point the new node's next property at\n",
        "    # whatever node is currently at head, this way when we set the new node as the head of the list we don't lose a\n",
        "    #refrence to this old head so:\n",
        "    new_node.next_node = self.head # so if self.head=None this coorectly set next_node to none\n",
        "    self.head = new_node\n",
        "\n",
        "l = LinkedList()\n",
        "l.add(1)\n",
        "l.size()"
      ],
      "metadata": {
        "colab": {
          "base_uri": "https://localhost:8080/"
        },
        "id": "aBz1e5UqZ7np",
        "outputId": "20565ac0-0806-4287-e3d5-ca3750da0876"
      },
      "execution_count": 17,
      "outputs": [
        {
          "output_type": "execute_result",
          "data": {
            "text/plain": [
              "1"
            ]
          },
          "metadata": {},
          "execution_count": 17
        }
      ]
    },
    {
      "cell_type": "code",
      "source": [
        "l.add(2)\n",
        "l.add(3)\n",
        "l.size()"
      ],
      "metadata": {
        "colab": {
          "base_uri": "https://localhost:8080/"
        },
        "id": "B-RifRzccje2",
        "outputId": "cf8e907c-3ec6-4554-e463-8e65dab8ddba"
      },
      "execution_count": 18,
      "outputs": [
        {
          "output_type": "execute_result",
          "data": {
            "text/plain": [
              "3"
            ]
          },
          "metadata": {},
          "execution_count": 18
        }
      ]
    },
    {
      "cell_type": "code",
      "source": [
        "l"
      ],
      "metadata": {
        "colab": {
          "base_uri": "https://localhost:8080/"
        },
        "id": "sScdlcgCcxyI",
        "outputId": "c34842c0-2836-4917-8e62-c53746384d3c"
      },
      "execution_count": 19,
      "outputs": [
        {
          "output_type": "execute_result",
          "data": {
            "text/plain": [
              "<__main__.LinkedList at 0x7f5a310cb890>"
            ]
          },
          "metadata": {},
          "execution_count": 19
        }
      ]
    },
    {
      "cell_type": "code",
      "source": [
        "l2 = LinkedList()\n",
        "l2.add(1)\n",
        "l2.size(), l2"
      ],
      "metadata": {
        "colab": {
          "base_uri": "https://localhost:8080/"
        },
        "id": "zNaePp4RdFC_",
        "outputId": "3d90fcdd-4d6c-4c50-b7d7-8a7faf5a702c"
      },
      "execution_count": 21,
      "outputs": [
        {
          "output_type": "execute_result",
          "data": {
            "text/plain": [
              "(1, Node: 1)"
            ]
          },
          "metadata": {},
          "execution_count": 21
        }
      ]
    },
    {
      "cell_type": "code",
      "source": [
        "# 3. we define __repr functin for our linklist class\n",
        "\n",
        "class Node:\n",
        "  \"\"\"\n",
        "  An object for storing a single node of a linked list.\n",
        "  Models teo atributes - dtaa and the link to the next node in the list\n",
        "  \"\"\"\n",
        "\n",
        "  data = None\n",
        "  next_node = None\n",
        "\n",
        "  def __init__(self, data):\n",
        "    self.data = data\n",
        "\n",
        "  def __repr__(self) -> str:\n",
        "    return f\"Node: {self.data}\"\n",
        "\n",
        "\n",
        "class LinkedList:\n",
        "\n",
        "  def __init__(self,):\n",
        "    self.head = None\n",
        "\n",
        "  def is_empty(self):\n",
        "    return self.head == None\n",
        "\n",
        "  def size(self,):\n",
        "    current = self.head\n",
        "    count = 0\n",
        "\n",
        "    while current:\n",
        "      count += 1\n",
        "      current = current.next_node\n",
        "    return count\n",
        "\n",
        "  def add(self, data_add):\n",
        "    # first we create a new node to hold on to the data\n",
        "    new_node = Node(data_add)\n",
        "    # before we set the new node as the head of the the list, we need to point the new node's next property at\n",
        "    # whatever node is currently at head, this way when we set the new node as the head of the list we don't lose a\n",
        "    #refrence to this old head so:\n",
        "    new_node.next_node = self.head # so if self.head=None this coorectly set next_node to none\n",
        "    self.head = new_node\n",
        "\n",
        "  # it is not true :)\n",
        "  # def __repr__(self):\n",
        "  #   return f\"{self.head}\"\n",
        "\n",
        "  def __repr__(self):\n",
        "\n",
        "    nodes = []\n",
        "    current = self.head\n",
        "\n",
        "    while current:\n",
        "      if current is self.head:\n",
        "        nodes.append(f\"[Head: {current.data}]\")\n",
        "      elif current.next_node is None:\n",
        "        nodes.append(f\"[Tail:{current.data}]\")\n",
        "      else:\n",
        "        nodes.append(f\"[{current.data}]\")\n",
        "\n",
        "      current = current.next_node\n",
        "\n",
        "    return '->'.join(nodes)\n",
        "\n",
        "l3 = LinkedList()\n",
        "l3.add(1)\n",
        "l3.add(2)\n",
        "l3.add(3)\n",
        "l3"
      ],
      "metadata": {
        "colab": {
          "base_uri": "https://localhost:8080/"
        },
        "id": "TYIGcKTpc1fT",
        "outputId": "db919a6c-bd7e-451b-b5de-1ea71fba4fb5"
      },
      "execution_count": 3,
      "outputs": [
        {
          "output_type": "execute_result",
          "data": {
            "text/plain": [
              "[Head: 3]->[2]->[Tail:1]"
            ]
          },
          "metadata": {},
          "execution_count": 3
        }
      ]
    },
    {
      "cell_type": "code",
      "source": [
        "# 4. search on list\n",
        "\n",
        "class Node:\n",
        "  \"\"\"\n",
        "  An object for storing a single node of a linked list.\n",
        "  Models teo atributes - dtaa and the link to the next node in the list\n",
        "  \"\"\"\n",
        "\n",
        "  data = None\n",
        "  next_node = None\n",
        "\n",
        "  def __init__(self, data):\n",
        "    self.data = data\n",
        "\n",
        "  def __repr__(self) -> str:\n",
        "    return f\"Node: {self.data}\"\n",
        "\n",
        "\n",
        "class LinkedList:\n",
        "\n",
        "  def __init__(self,):\n",
        "    self.head = None\n",
        "\n",
        "  def is_empty(self):\n",
        "    return self.head == None\n",
        "\n",
        "  def size(self,):\n",
        "    current = self.head\n",
        "    count = 0\n",
        "\n",
        "    while current:\n",
        "      count += 1\n",
        "      current = current.next_node\n",
        "    return count\n",
        "\n",
        "  def add(self, data_add):\n",
        "    # first we create a new node to hold on to the data\n",
        "    new_node = Node(data_add)\n",
        "    # before we set the new node as the head of the the list, we need to point the new node's next property at\n",
        "    # whatever node is currently at head, this way when we set the new node as the head of the list we don't lose a\n",
        "    #refrence to this old head so:\n",
        "    new_node.next_node = self.head # so if self.head=None this coorectly set next_node to none\n",
        "    self.head = new_node\n",
        "\n",
        "  # it is not true :)\n",
        "  # def __repr__(self):\n",
        "  #   return f\"{self.head}\"\n",
        "\n",
        "  def __repr__(self):\n",
        "\n",
        "    nodes = []\n",
        "    current = self.head\n",
        "\n",
        "    while current:\n",
        "      if current is self.head:\n",
        "        nodes.append(f\"[Head: {current.data}]\")\n",
        "      elif current.next_node is None:\n",
        "        nodes.append(f\"[Tail:{current.data}]\")\n",
        "      else:\n",
        "        nodes.append(f\"[{current.data}]\")\n",
        "\n",
        "      current = current.next_node\n",
        "\n",
        "    return '->'.join(nodes)\n",
        "\n",
        "  def search(self, key):\n",
        "    current = self.head\n",
        "\n",
        "    while current:\n",
        "      if current.data == key:\n",
        "        return current\n",
        "      else:\n",
        "        current = current.next_node\n",
        "    return None\n",
        "\n",
        "l4 = LinkedList()\n",
        "l4.add(1)\n",
        "l4.add(2)\n",
        "l4.add(3)\n",
        "n = l4.search(2)\n",
        "n"
      ],
      "metadata": {
        "colab": {
          "base_uri": "https://localhost:8080/"
        },
        "id": "ETYqEA0fdKqr",
        "outputId": "de6efe9c-bb84-43c1-bbb5-e6257023a68f"
      },
      "execution_count": 8,
      "outputs": [
        {
          "output_type": "execute_result",
          "data": {
            "text/plain": [
              "Node: 2"
            ]
          },
          "metadata": {},
          "execution_count": 8
        }
      ]
    }
  ]
}